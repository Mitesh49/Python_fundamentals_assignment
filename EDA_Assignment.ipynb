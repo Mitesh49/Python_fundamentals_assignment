{
  "nbformat": 4,
  "nbformat_minor": 0,
  "metadata": {
    "colab": {
      "provenance": []
    },
    "kernelspec": {
      "name": "python3",
      "display_name": "Python 3"
    },
    "language_info": {
      "name": "python"
    }
  },
  "cells": [
    {
      "cell_type": "markdown",
      "source": [
        "Market Sales Analysis for Client ABC (EDA Assignment) By Mitesh V"
      ],
      "metadata": {
        "id": "_aG_AHL-C23z"
      }
    },
    {
      "cell_type": "markdown",
      "source": [
        "The client ABC is a US based large retailer of apparel and accessories. ABC management is planning to expand their business by opening more shops in different locations across the US. Details of the existing shops are available in the data source shared. Perform the necessary data analysis and summarize the insights to answer the questions listed below."
      ],
      "metadata": {
        "id": "tFs9607QC2m5"
      }
    },
    {
      "cell_type": "code",
      "execution_count": 2,
      "metadata": {
        "id": "jTAwOk-7_m4_",
        "colab": {
          "base_uri": "https://localhost:8080/",
          "height": 805
        },
        "outputId": "c1b56dee-c9d3-49f8-bb58-d8f792d17915"
      },
      "outputs": [
        {
          "output_type": "execute_result",
          "data": {
            "text/plain": [
              "        Store  Year  Month Super Division     Sales       SGM  \\\n",
              "0           1  2015      2          GIRLS  63635.80  35692.09   \n",
              "1           1  2015      2           BOYS  20872.93  15691.34   \n",
              "2           1  2015      2    ACCESSORIES  38717.03  23866.25   \n",
              "3           1  2015      2           KIDS  11455.00  12110.00   \n",
              "4           1  2015      3          GIRLS  67507.77  42237.79   \n",
              "...       ...   ...    ...            ...       ...       ...   \n",
              "114727    481  2019      4           BOYS  41141.08  29096.45   \n",
              "114728    481  2019      4    ACCESSORIES  42549.31  26946.17   \n",
              "114729    481  2019      4           KIDS  11110.55  11893.03   \n",
              "114730    481  2019      5          GIRLS  72705.32  44709.06   \n",
              "114731    481  2019      5           BOYS  32309.38  24004.19   \n",
              "\n",
              "                 Store Open    Store Close Outlet Type State   Climate  \\\n",
              "0       1991-03-01 00:00:00  No Close date      Outlet    A1    Frigid   \n",
              "1       1991-03-01 00:00:00  No Close date      Outlet    A1    Frigid   \n",
              "2       1991-03-01 00:00:00  No Close date      Outlet    A1    Frigid   \n",
              "3       1991-03-01 00:00:00  No Close date      Outlet    A1    Frigid   \n",
              "4       1991-03-01 00:00:00  No Close date      Outlet    A1    Frigid   \n",
              "...                     ...            ...         ...   ...       ...   \n",
              "114727  2013-09-26 00:00:00  No Close date       Strip    C9  Moderate   \n",
              "114728  2013-09-26 00:00:00  No Close date       Strip    C9  Moderate   \n",
              "114729  2013-09-26 00:00:00  No Close date       Strip    C9  Moderate   \n",
              "114730  2013-09-26 00:00:00  No Close date       Strip    C9  Moderate   \n",
              "114731  2013-09-26 00:00:00    No Close da         NaN   NaN       NaN   \n",
              "\n",
              "        Total Sq Ft Store Modification Date Store Modification  \n",
              "0            4735.0     2011-10-06 00:00:00         relocation  \n",
              "1            4735.0     2011-10-06 00:00:00         relocation  \n",
              "2            4735.0     2011-10-06 00:00:00         relocation  \n",
              "3            4735.0     2011-10-06 00:00:00         relocation  \n",
              "4            4735.0     2011-10-06 00:00:00         relocation  \n",
              "...             ...                     ...                ...  \n",
              "114727       4960.5             No RRE date          no change  \n",
              "114728       4960.5             No RRE date          no change  \n",
              "114729       4960.5             No RRE date          no change  \n",
              "114730       4960.5             No RRE date          no change  \n",
              "114731          NaN                     NaN                NaN  \n",
              "\n",
              "[114732 rows x 14 columns]"
            ],
            "text/html": [
              "\n",
              "  <div id=\"df-6eeb77b0-8a0f-40c6-81db-57127653034e\" class=\"colab-df-container\">\n",
              "    <div>\n",
              "<style scoped>\n",
              "    .dataframe tbody tr th:only-of-type {\n",
              "        vertical-align: middle;\n",
              "    }\n",
              "\n",
              "    .dataframe tbody tr th {\n",
              "        vertical-align: top;\n",
              "    }\n",
              "\n",
              "    .dataframe thead th {\n",
              "        text-align: right;\n",
              "    }\n",
              "</style>\n",
              "<table border=\"1\" class=\"dataframe\">\n",
              "  <thead>\n",
              "    <tr style=\"text-align: right;\">\n",
              "      <th></th>\n",
              "      <th>Store</th>\n",
              "      <th>Year</th>\n",
              "      <th>Month</th>\n",
              "      <th>Super Division</th>\n",
              "      <th>Sales</th>\n",
              "      <th>SGM</th>\n",
              "      <th>Store Open</th>\n",
              "      <th>Store Close</th>\n",
              "      <th>Outlet Type</th>\n",
              "      <th>State</th>\n",
              "      <th>Climate</th>\n",
              "      <th>Total Sq Ft</th>\n",
              "      <th>Store Modification Date</th>\n",
              "      <th>Store Modification</th>\n",
              "    </tr>\n",
              "  </thead>\n",
              "  <tbody>\n",
              "    <tr>\n",
              "      <th>0</th>\n",
              "      <td>1</td>\n",
              "      <td>2015</td>\n",
              "      <td>2</td>\n",
              "      <td>GIRLS</td>\n",
              "      <td>63635.80</td>\n",
              "      <td>35692.09</td>\n",
              "      <td>1991-03-01 00:00:00</td>\n",
              "      <td>No Close date</td>\n",
              "      <td>Outlet</td>\n",
              "      <td>A1</td>\n",
              "      <td>Frigid</td>\n",
              "      <td>4735.0</td>\n",
              "      <td>2011-10-06 00:00:00</td>\n",
              "      <td>relocation</td>\n",
              "    </tr>\n",
              "    <tr>\n",
              "      <th>1</th>\n",
              "      <td>1</td>\n",
              "      <td>2015</td>\n",
              "      <td>2</td>\n",
              "      <td>BOYS</td>\n",
              "      <td>20872.93</td>\n",
              "      <td>15691.34</td>\n",
              "      <td>1991-03-01 00:00:00</td>\n",
              "      <td>No Close date</td>\n",
              "      <td>Outlet</td>\n",
              "      <td>A1</td>\n",
              "      <td>Frigid</td>\n",
              "      <td>4735.0</td>\n",
              "      <td>2011-10-06 00:00:00</td>\n",
              "      <td>relocation</td>\n",
              "    </tr>\n",
              "    <tr>\n",
              "      <th>2</th>\n",
              "      <td>1</td>\n",
              "      <td>2015</td>\n",
              "      <td>2</td>\n",
              "      <td>ACCESSORIES</td>\n",
              "      <td>38717.03</td>\n",
              "      <td>23866.25</td>\n",
              "      <td>1991-03-01 00:00:00</td>\n",
              "      <td>No Close date</td>\n",
              "      <td>Outlet</td>\n",
              "      <td>A1</td>\n",
              "      <td>Frigid</td>\n",
              "      <td>4735.0</td>\n",
              "      <td>2011-10-06 00:00:00</td>\n",
              "      <td>relocation</td>\n",
              "    </tr>\n",
              "    <tr>\n",
              "      <th>3</th>\n",
              "      <td>1</td>\n",
              "      <td>2015</td>\n",
              "      <td>2</td>\n",
              "      <td>KIDS</td>\n",
              "      <td>11455.00</td>\n",
              "      <td>12110.00</td>\n",
              "      <td>1991-03-01 00:00:00</td>\n",
              "      <td>No Close date</td>\n",
              "      <td>Outlet</td>\n",
              "      <td>A1</td>\n",
              "      <td>Frigid</td>\n",
              "      <td>4735.0</td>\n",
              "      <td>2011-10-06 00:00:00</td>\n",
              "      <td>relocation</td>\n",
              "    </tr>\n",
              "    <tr>\n",
              "      <th>4</th>\n",
              "      <td>1</td>\n",
              "      <td>2015</td>\n",
              "      <td>3</td>\n",
              "      <td>GIRLS</td>\n",
              "      <td>67507.77</td>\n",
              "      <td>42237.79</td>\n",
              "      <td>1991-03-01 00:00:00</td>\n",
              "      <td>No Close date</td>\n",
              "      <td>Outlet</td>\n",
              "      <td>A1</td>\n",
              "      <td>Frigid</td>\n",
              "      <td>4735.0</td>\n",
              "      <td>2011-10-06 00:00:00</td>\n",
              "      <td>relocation</td>\n",
              "    </tr>\n",
              "    <tr>\n",
              "      <th>...</th>\n",
              "      <td>...</td>\n",
              "      <td>...</td>\n",
              "      <td>...</td>\n",
              "      <td>...</td>\n",
              "      <td>...</td>\n",
              "      <td>...</td>\n",
              "      <td>...</td>\n",
              "      <td>...</td>\n",
              "      <td>...</td>\n",
              "      <td>...</td>\n",
              "      <td>...</td>\n",
              "      <td>...</td>\n",
              "      <td>...</td>\n",
              "      <td>...</td>\n",
              "    </tr>\n",
              "    <tr>\n",
              "      <th>114727</th>\n",
              "      <td>481</td>\n",
              "      <td>2019</td>\n",
              "      <td>4</td>\n",
              "      <td>BOYS</td>\n",
              "      <td>41141.08</td>\n",
              "      <td>29096.45</td>\n",
              "      <td>2013-09-26 00:00:00</td>\n",
              "      <td>No Close date</td>\n",
              "      <td>Strip</td>\n",
              "      <td>C9</td>\n",
              "      <td>Moderate</td>\n",
              "      <td>4960.5</td>\n",
              "      <td>No RRE date</td>\n",
              "      <td>no change</td>\n",
              "    </tr>\n",
              "    <tr>\n",
              "      <th>114728</th>\n",
              "      <td>481</td>\n",
              "      <td>2019</td>\n",
              "      <td>4</td>\n",
              "      <td>ACCESSORIES</td>\n",
              "      <td>42549.31</td>\n",
              "      <td>26946.17</td>\n",
              "      <td>2013-09-26 00:00:00</td>\n",
              "      <td>No Close date</td>\n",
              "      <td>Strip</td>\n",
              "      <td>C9</td>\n",
              "      <td>Moderate</td>\n",
              "      <td>4960.5</td>\n",
              "      <td>No RRE date</td>\n",
              "      <td>no change</td>\n",
              "    </tr>\n",
              "    <tr>\n",
              "      <th>114729</th>\n",
              "      <td>481</td>\n",
              "      <td>2019</td>\n",
              "      <td>4</td>\n",
              "      <td>KIDS</td>\n",
              "      <td>11110.55</td>\n",
              "      <td>11893.03</td>\n",
              "      <td>2013-09-26 00:00:00</td>\n",
              "      <td>No Close date</td>\n",
              "      <td>Strip</td>\n",
              "      <td>C9</td>\n",
              "      <td>Moderate</td>\n",
              "      <td>4960.5</td>\n",
              "      <td>No RRE date</td>\n",
              "      <td>no change</td>\n",
              "    </tr>\n",
              "    <tr>\n",
              "      <th>114730</th>\n",
              "      <td>481</td>\n",
              "      <td>2019</td>\n",
              "      <td>5</td>\n",
              "      <td>GIRLS</td>\n",
              "      <td>72705.32</td>\n",
              "      <td>44709.06</td>\n",
              "      <td>2013-09-26 00:00:00</td>\n",
              "      <td>No Close date</td>\n",
              "      <td>Strip</td>\n",
              "      <td>C9</td>\n",
              "      <td>Moderate</td>\n",
              "      <td>4960.5</td>\n",
              "      <td>No RRE date</td>\n",
              "      <td>no change</td>\n",
              "    </tr>\n",
              "    <tr>\n",
              "      <th>114731</th>\n",
              "      <td>481</td>\n",
              "      <td>2019</td>\n",
              "      <td>5</td>\n",
              "      <td>BOYS</td>\n",
              "      <td>32309.38</td>\n",
              "      <td>24004.19</td>\n",
              "      <td>2013-09-26 00:00:00</td>\n",
              "      <td>No Close da</td>\n",
              "      <td>NaN</td>\n",
              "      <td>NaN</td>\n",
              "      <td>NaN</td>\n",
              "      <td>NaN</td>\n",
              "      <td>NaN</td>\n",
              "      <td>NaN</td>\n",
              "    </tr>\n",
              "  </tbody>\n",
              "</table>\n",
              "<p>114732 rows × 14 columns</p>\n",
              "</div>\n",
              "    <div class=\"colab-df-buttons\">\n",
              "\n",
              "  <div class=\"colab-df-container\">\n",
              "    <button class=\"colab-df-convert\" onclick=\"convertToInteractive('df-6eeb77b0-8a0f-40c6-81db-57127653034e')\"\n",
              "            title=\"Convert this dataframe to an interactive table.\"\n",
              "            style=\"display:none;\">\n",
              "\n",
              "  <svg xmlns=\"http://www.w3.org/2000/svg\" height=\"24px\" viewBox=\"0 -960 960 960\">\n",
              "    <path d=\"M120-120v-720h720v720H120Zm60-500h600v-160H180v160Zm220 220h160v-160H400v160Zm0 220h160v-160H400v160ZM180-400h160v-160H180v160Zm440 0h160v-160H620v160ZM180-180h160v-160H180v160Zm440 0h160v-160H620v160Z\"/>\n",
              "  </svg>\n",
              "    </button>\n",
              "\n",
              "  <style>\n",
              "    .colab-df-container {\n",
              "      display:flex;\n",
              "      gap: 12px;\n",
              "    }\n",
              "\n",
              "    .colab-df-convert {\n",
              "      background-color: #E8F0FE;\n",
              "      border: none;\n",
              "      border-radius: 50%;\n",
              "      cursor: pointer;\n",
              "      display: none;\n",
              "      fill: #1967D2;\n",
              "      height: 32px;\n",
              "      padding: 0 0 0 0;\n",
              "      width: 32px;\n",
              "    }\n",
              "\n",
              "    .colab-df-convert:hover {\n",
              "      background-color: #E2EBFA;\n",
              "      box-shadow: 0px 1px 2px rgba(60, 64, 67, 0.3), 0px 1px 3px 1px rgba(60, 64, 67, 0.15);\n",
              "      fill: #174EA6;\n",
              "    }\n",
              "\n",
              "    .colab-df-buttons div {\n",
              "      margin-bottom: 4px;\n",
              "    }\n",
              "\n",
              "    [theme=dark] .colab-df-convert {\n",
              "      background-color: #3B4455;\n",
              "      fill: #D2E3FC;\n",
              "    }\n",
              "\n",
              "    [theme=dark] .colab-df-convert:hover {\n",
              "      background-color: #434B5C;\n",
              "      box-shadow: 0px 1px 3px 1px rgba(0, 0, 0, 0.15);\n",
              "      filter: drop-shadow(0px 1px 2px rgba(0, 0, 0, 0.3));\n",
              "      fill: #FFFFFF;\n",
              "    }\n",
              "  </style>\n",
              "\n",
              "    <script>\n",
              "      const buttonEl =\n",
              "        document.querySelector('#df-6eeb77b0-8a0f-40c6-81db-57127653034e button.colab-df-convert');\n",
              "      buttonEl.style.display =\n",
              "        google.colab.kernel.accessAllowed ? 'block' : 'none';\n",
              "\n",
              "      async function convertToInteractive(key) {\n",
              "        const element = document.querySelector('#df-6eeb77b0-8a0f-40c6-81db-57127653034e');\n",
              "        const dataTable =\n",
              "          await google.colab.kernel.invokeFunction('convertToInteractive',\n",
              "                                                    [key], {});\n",
              "        if (!dataTable) return;\n",
              "\n",
              "        const docLinkHtml = 'Like what you see? Visit the ' +\n",
              "          '<a target=\"_blank\" href=https://colab.research.google.com/notebooks/data_table.ipynb>data table notebook</a>'\n",
              "          + ' to learn more about interactive tables.';\n",
              "        element.innerHTML = '';\n",
              "        dataTable['output_type'] = 'display_data';\n",
              "        await google.colab.output.renderOutput(dataTable, element);\n",
              "        const docLink = document.createElement('div');\n",
              "        docLink.innerHTML = docLinkHtml;\n",
              "        element.appendChild(docLink);\n",
              "      }\n",
              "    </script>\n",
              "  </div>\n",
              "\n",
              "\n",
              "<div id=\"df-665f6147-a434-4eda-ad22-001a2d2dc455\">\n",
              "  <button class=\"colab-df-quickchart\" onclick=\"quickchart('df-665f6147-a434-4eda-ad22-001a2d2dc455')\"\n",
              "            title=\"Suggest charts\"\n",
              "            style=\"display:none;\">\n",
              "\n",
              "<svg xmlns=\"http://www.w3.org/2000/svg\" height=\"24px\"viewBox=\"0 0 24 24\"\n",
              "     width=\"24px\">\n",
              "    <g>\n",
              "        <path d=\"M19 3H5c-1.1 0-2 .9-2 2v14c0 1.1.9 2 2 2h14c1.1 0 2-.9 2-2V5c0-1.1-.9-2-2-2zM9 17H7v-7h2v7zm4 0h-2V7h2v10zm4 0h-2v-4h2v4z\"/>\n",
              "    </g>\n",
              "</svg>\n",
              "  </button>\n",
              "\n",
              "<style>\n",
              "  .colab-df-quickchart {\n",
              "      --bg-color: #E8F0FE;\n",
              "      --fill-color: #1967D2;\n",
              "      --hover-bg-color: #E2EBFA;\n",
              "      --hover-fill-color: #174EA6;\n",
              "      --disabled-fill-color: #AAA;\n",
              "      --disabled-bg-color: #DDD;\n",
              "  }\n",
              "\n",
              "  [theme=dark] .colab-df-quickchart {\n",
              "      --bg-color: #3B4455;\n",
              "      --fill-color: #D2E3FC;\n",
              "      --hover-bg-color: #434B5C;\n",
              "      --hover-fill-color: #FFFFFF;\n",
              "      --disabled-bg-color: #3B4455;\n",
              "      --disabled-fill-color: #666;\n",
              "  }\n",
              "\n",
              "  .colab-df-quickchart {\n",
              "    background-color: var(--bg-color);\n",
              "    border: none;\n",
              "    border-radius: 50%;\n",
              "    cursor: pointer;\n",
              "    display: none;\n",
              "    fill: var(--fill-color);\n",
              "    height: 32px;\n",
              "    padding: 0;\n",
              "    width: 32px;\n",
              "  }\n",
              "\n",
              "  .colab-df-quickchart:hover {\n",
              "    background-color: var(--hover-bg-color);\n",
              "    box-shadow: 0 1px 2px rgba(60, 64, 67, 0.3), 0 1px 3px 1px rgba(60, 64, 67, 0.15);\n",
              "    fill: var(--button-hover-fill-color);\n",
              "  }\n",
              "\n",
              "  .colab-df-quickchart-complete:disabled,\n",
              "  .colab-df-quickchart-complete:disabled:hover {\n",
              "    background-color: var(--disabled-bg-color);\n",
              "    fill: var(--disabled-fill-color);\n",
              "    box-shadow: none;\n",
              "  }\n",
              "\n",
              "  .colab-df-spinner {\n",
              "    border: 2px solid var(--fill-color);\n",
              "    border-color: transparent;\n",
              "    border-bottom-color: var(--fill-color);\n",
              "    animation:\n",
              "      spin 1s steps(1) infinite;\n",
              "  }\n",
              "\n",
              "  @keyframes spin {\n",
              "    0% {\n",
              "      border-color: transparent;\n",
              "      border-bottom-color: var(--fill-color);\n",
              "      border-left-color: var(--fill-color);\n",
              "    }\n",
              "    20% {\n",
              "      border-color: transparent;\n",
              "      border-left-color: var(--fill-color);\n",
              "      border-top-color: var(--fill-color);\n",
              "    }\n",
              "    30% {\n",
              "      border-color: transparent;\n",
              "      border-left-color: var(--fill-color);\n",
              "      border-top-color: var(--fill-color);\n",
              "      border-right-color: var(--fill-color);\n",
              "    }\n",
              "    40% {\n",
              "      border-color: transparent;\n",
              "      border-right-color: var(--fill-color);\n",
              "      border-top-color: var(--fill-color);\n",
              "    }\n",
              "    60% {\n",
              "      border-color: transparent;\n",
              "      border-right-color: var(--fill-color);\n",
              "    }\n",
              "    80% {\n",
              "      border-color: transparent;\n",
              "      border-right-color: var(--fill-color);\n",
              "      border-bottom-color: var(--fill-color);\n",
              "    }\n",
              "    90% {\n",
              "      border-color: transparent;\n",
              "      border-bottom-color: var(--fill-color);\n",
              "    }\n",
              "  }\n",
              "</style>\n",
              "\n",
              "  <script>\n",
              "    async function quickchart(key) {\n",
              "      const quickchartButtonEl =\n",
              "        document.querySelector('#' + key + ' button');\n",
              "      quickchartButtonEl.disabled = true;  // To prevent multiple clicks.\n",
              "      quickchartButtonEl.classList.add('colab-df-spinner');\n",
              "      try {\n",
              "        const charts = await google.colab.kernel.invokeFunction(\n",
              "            'suggestCharts', [key], {});\n",
              "      } catch (error) {\n",
              "        console.error('Error during call to suggestCharts:', error);\n",
              "      }\n",
              "      quickchartButtonEl.classList.remove('colab-df-spinner');\n",
              "      quickchartButtonEl.classList.add('colab-df-quickchart-complete');\n",
              "    }\n",
              "    (() => {\n",
              "      let quickchartButtonEl =\n",
              "        document.querySelector('#df-665f6147-a434-4eda-ad22-001a2d2dc455 button');\n",
              "      quickchartButtonEl.style.display =\n",
              "        google.colab.kernel.accessAllowed ? 'block' : 'none';\n",
              "    })();\n",
              "  </script>\n",
              "</div>\n",
              "\n",
              "  <div id=\"id_97472375-002f-4150-80c1-fbff2887118f\">\n",
              "    <style>\n",
              "      .colab-df-generate {\n",
              "        background-color: #E8F0FE;\n",
              "        border: none;\n",
              "        border-radius: 50%;\n",
              "        cursor: pointer;\n",
              "        display: none;\n",
              "        fill: #1967D2;\n",
              "        height: 32px;\n",
              "        padding: 0 0 0 0;\n",
              "        width: 32px;\n",
              "      }\n",
              "\n",
              "      .colab-df-generate:hover {\n",
              "        background-color: #E2EBFA;\n",
              "        box-shadow: 0px 1px 2px rgba(60, 64, 67, 0.3), 0px 1px 3px 1px rgba(60, 64, 67, 0.15);\n",
              "        fill: #174EA6;\n",
              "      }\n",
              "\n",
              "      [theme=dark] .colab-df-generate {\n",
              "        background-color: #3B4455;\n",
              "        fill: #D2E3FC;\n",
              "      }\n",
              "\n",
              "      [theme=dark] .colab-df-generate:hover {\n",
              "        background-color: #434B5C;\n",
              "        box-shadow: 0px 1px 3px 1px rgba(0, 0, 0, 0.15);\n",
              "        filter: drop-shadow(0px 1px 2px rgba(0, 0, 0, 0.3));\n",
              "        fill: #FFFFFF;\n",
              "      }\n",
              "    </style>\n",
              "    <button class=\"colab-df-generate\" onclick=\"generateWithVariable('df')\"\n",
              "            title=\"Generate code using this dataframe.\"\n",
              "            style=\"display:none;\">\n",
              "\n",
              "  <svg xmlns=\"http://www.w3.org/2000/svg\" height=\"24px\"viewBox=\"0 0 24 24\"\n",
              "       width=\"24px\">\n",
              "    <path d=\"M7,19H8.4L18.45,9,17,7.55,7,17.6ZM5,21V16.75L18.45,3.32a2,2,0,0,1,2.83,0l1.4,1.43a1.91,1.91,0,0,1,.58,1.4,1.91,1.91,0,0,1-.58,1.4L9.25,21ZM18.45,9,17,7.55Zm-12,3A5.31,5.31,0,0,0,4.9,8.1,5.31,5.31,0,0,0,1,6.5,5.31,5.31,0,0,0,4.9,4.9,5.31,5.31,0,0,0,6.5,1,5.31,5.31,0,0,0,8.1,4.9,5.31,5.31,0,0,0,12,6.5,5.46,5.46,0,0,0,6.5,12Z\"/>\n",
              "  </svg>\n",
              "    </button>\n",
              "    <script>\n",
              "      (() => {\n",
              "      const buttonEl =\n",
              "        document.querySelector('#id_97472375-002f-4150-80c1-fbff2887118f button.colab-df-generate');\n",
              "      buttonEl.style.display =\n",
              "        google.colab.kernel.accessAllowed ? 'block' : 'none';\n",
              "\n",
              "      buttonEl.onclick = () => {\n",
              "        google.colab.notebook.generateWithVariable('df');\n",
              "      }\n",
              "      })();\n",
              "    </script>\n",
              "  </div>\n",
              "\n",
              "    </div>\n",
              "  </div>\n"
            ],
            "application/vnd.google.colaboratory.intrinsic+json": {
              "type": "dataframe",
              "variable_name": "df"
            }
          },
          "metadata": {},
          "execution_count": 2
        }
      ],
      "source": [
        "import pandas as pd\n",
        "import numpy as np\n",
        "\n",
        "df = pd.read_csv('eda_data.csv')\n",
        "df"
      ]
    },
    {
      "cell_type": "markdown",
      "source": [
        "1) Initial Exploration:\n",
        "\n"
      ],
      "metadata": {
        "id": "OauV9AfMSLUN"
      }
    },
    {
      "cell_type": "markdown",
      "source": [
        "a) Find total sales by year."
      ],
      "metadata": {
        "id": "I4BDp5tCSTY1"
      }
    },
    {
      "cell_type": "code",
      "source": [
        "total_sales_each_year = df.groupby('Year')['Sales'].sum()\n",
        "total_sales_each_year"
      ],
      "metadata": {
        "colab": {
          "base_uri": "https://localhost:8080/"
        },
        "id": "HdUFUgzfSLAe",
        "outputId": "0e443e7b-abda-4176-8abe-de5df6083235"
      },
      "execution_count": 3,
      "outputs": [
        {
          "output_type": "execute_result",
          "data": {
            "text/plain": [
              "Year\n",
              "2015    1.067311e+09\n",
              "2016    1.163668e+09\n",
              "2017    1.049798e+09\n",
              "2018    9.817347e+08\n",
              "2019    1.018282e+09\n",
              "2020    4.531989e+07\n",
              "Name: Sales, dtype: float64"
            ]
          },
          "metadata": {},
          "execution_count": 3
        }
      ]
    },
    {
      "cell_type": "markdown",
      "source": [
        "b) Number of stores opened in the year 1991."
      ],
      "metadata": {
        "id": "uTLuwO4jGRSJ"
      }
    },
    {
      "cell_type": "code",
      "source": [
        "df['Store Open'] = pd.to_datetime(df['Store Open'], errors='coerce')\n",
        "df['Store Open Year'] = df['Store Open'].dt.year\n",
        "stores_opened_1991 = df[df['Store Open Year'] == 1991]['Store'].nunique()\n",
        "print(\"The no. of stores opened in 1991 are : \",stores_opened_1991)"
      ],
      "metadata": {
        "colab": {
          "base_uri": "https://localhost:8080/"
        },
        "id": "KBgI-wnVH0UD",
        "outputId": "cfc8af2d-bdd6-4172-a907-82b05c641df5"
      },
      "execution_count": 4,
      "outputs": [
        {
          "output_type": "stream",
          "name": "stdout",
          "text": [
            "The no. of stores opened in 1991 are :  3\n"
          ]
        }
      ]
    },
    {
      "cell_type": "markdown",
      "source": [
        "c) How many stores were remodelled during this period? (Consider all types of remodelling)"
      ],
      "metadata": {
        "id": "sIiU9zFSI419"
      }
    },
    {
      "cell_type": "code",
      "source": [
        "remodeled_stores = df[df['Store Modification'].notnull()]['Store'].nunique()\n",
        "print(f\"Number of stores remodeled: {remodeled_stores}\")"
      ],
      "metadata": {
        "colab": {
          "base_uri": "https://localhost:8080/"
        },
        "id": "JJfvo5UnI8Cm",
        "outputId": "b9c609c5-b088-4527-e76b-e2ec83d9df4f"
      },
      "execution_count": 5,
      "outputs": [
        {
          "output_type": "stream",
          "name": "stdout",
          "text": [
            "Number of stores remodeled: 481\n"
          ]
        }
      ]
    },
    {
      "cell_type": "markdown",
      "source": [
        "d) Find the direct relationship (if any) between Sales and total sq. ft."
      ],
      "metadata": {
        "id": "mc5Fni4wJePM"
      }
    },
    {
      "cell_type": "code",
      "source": [
        "correlation_sales_sqft = df['Sales'].corr(df['Total Sq Ft'])\n",
        "print(f\"Correlation between Sales and Total Sq Ft: {correlation_sales_sqft}\")"
      ],
      "metadata": {
        "colab": {
          "base_uri": "https://localhost:8080/"
        },
        "id": "uRPCzEvZJe6-",
        "outputId": "f6e998b5-1d38-4d58-9e91-d5393352782e"
      },
      "execution_count": 6,
      "outputs": [
        {
          "output_type": "stream",
          "name": "stdout",
          "text": [
            "Correlation between Sales and Total Sq Ft: 0.12966283715915966\n"
          ]
        }
      ]
    },
    {
      "cell_type": "markdown",
      "source": [
        "e) Which Super division is most profitable?"
      ],
      "metadata": {
        "id": "iQZEPziSJjRl"
      }
    },
    {
      "cell_type": "code",
      "source": [
        "super_division_profit = df.groupby('Super Division')['Sales'].sum().reset_index()\n",
        "most_profitable_super_division = super_division_profit.loc[super_division_profit['Sales'].idxmax()]\n",
        "print(f\"Most profitable Super Division: {most_profitable_super_division['Super Division']} with Sales: {most_profitable_super_division['Sales']}\")"
      ],
      "metadata": {
        "colab": {
          "base_uri": "https://localhost:8080/"
        },
        "id": "eag0RVK6Jjjz",
        "outputId": "3820cebe-1cc9-4fc4-fe1e-754434dfbbb3"
      },
      "execution_count": 7,
      "outputs": [
        {
          "output_type": "stream",
          "name": "stdout",
          "text": [
            "Most profitable Super Division: GIRLS with Sales: 2358646979.1\n"
          ]
        }
      ]
    },
    {
      "cell_type": "markdown",
      "source": [
        "f) How many stores are active as of today?"
      ],
      "metadata": {
        "id": "tkiO1FsuJs6Y"
      }
    },
    {
      "cell_type": "code",
      "source": [
        "active_stores = df[df['Store Close'].isnull()]['Store'].nunique()\n",
        "print(f\"Number of active stores as of today: {active_stores}\")"
      ],
      "metadata": {
        "colab": {
          "base_uri": "https://localhost:8080/"
        },
        "id": "fVih5-P9JtZ8",
        "outputId": "1cc283c3-816a-4545-c8c8-7f9d380ab97d"
      },
      "execution_count": 9,
      "outputs": [
        {
          "output_type": "stream",
          "name": "stdout",
          "text": [
            "Number of active stores as of today: 0\n"
          ]
        }
      ]
    },
    {
      "cell_type": "markdown",
      "source": [
        "g) Which super division has more sq. ft on an average across all the stores?"
      ],
      "metadata": {
        "id": "72Fn41vrKCNh"
      }
    },
    {
      "cell_type": "code",
      "source": [
        "avg_sqft_super_division = df.groupby('Super Division')['Total Sq Ft'].mean().reset_index()\n",
        "super_division_max_avg_sqft = avg_sqft_super_division.loc[avg_sqft_super_division['Total Sq Ft'].idxmax()]\n",
        "print(f\"Super division with highest average sq. ft: {super_division_max_avg_sqft['Super Division']} with Average Sq Ft: {super_division_max_avg_sqft['Total Sq Ft']}\")"
      ],
      "metadata": {
        "colab": {
          "base_uri": "https://localhost:8080/"
        },
        "id": "Ks8u-MkzKE7I",
        "outputId": "d1f8c077-0483-4faf-9c0e-56e3e1fb300e"
      },
      "execution_count": 10,
      "outputs": [
        {
          "output_type": "stream",
          "name": "stdout",
          "text": [
            "Super division with highest average sq. ft: KIDS with Average Sq Ft: 6392.142177881554\n"
          ]
        }
      ]
    },
    {
      "cell_type": "markdown",
      "source": [
        "2) Advanced Insights:"
      ],
      "metadata": {
        "id": "KFjNcVRiKU1K"
      }
    },
    {
      "cell_type": "markdown",
      "source": [
        "a) What are the top 3 potential candidate states to consider for opening a new store?"
      ],
      "metadata": {
        "id": "E_IC0jLnKXld"
      }
    },
    {
      "cell_type": "markdown",
      "source": [
        "(we assume that the states with the higher avg. sales are the ones who can look to open a new store)"
      ],
      "metadata": {
        "id": "TSCAe1rrLTBV"
      }
    },
    {
      "cell_type": "markdown",
      "source": [
        "So we group the data by state and calculate the average sales for each state. Sort the states by average sales in descending order and select the top 3 states with the highest average sales."
      ],
      "metadata": {
        "id": "2RjYUP6OOf4f"
      }
    },
    {
      "cell_type": "code",
      "source": [
        "average_sales_by_state = df.groupby('State')['Sales'].mean().reset_index()\n",
        "top_3_states = average_sales_by_state.sort_values(by='Sales', ascending=False).head(3)\n",
        "print(\"Top 3 potential candidate states for opening a new store:\")\n",
        "print(top_3_states)"
      ],
      "metadata": {
        "colab": {
          "base_uri": "https://localhost:8080/"
        },
        "id": "L9LGRpNZKfEI",
        "outputId": "b22a3a52-7260-4984-e2bb-d947b993cc57"
      },
      "execution_count": 12,
      "outputs": [
        {
          "output_type": "stream",
          "name": "stdout",
          "text": [
            "Top 3 potential candidate states for opening a new store:\n",
            "   State         Sales\n",
            "43    E4  58183.380314\n",
            "15    B5  54206.362152\n",
            "12    B2  50950.712285\n"
          ]
        }
      ]
    },
    {
      "cell_type": "markdown",
      "source": [
        "b) What is the best time of the year to consider opening a store?"
      ],
      "metadata": {
        "id": "E6cjdbK1KZ0E"
      }
    },
    {
      "cell_type": "markdown",
      "source": [
        "(We assume that the month with the highest avg. sales is the best option for opening a new store)"
      ],
      "metadata": {
        "id": "T_aG8uLlNmmG"
      }
    },
    {
      "cell_type": "markdown",
      "source": [
        "So we extract the month from the store opening dates and group the data by month and calculate the average sales for each month. Then finally identify the month with the highest average sales."
      ],
      "metadata": {
        "id": "mZDPdybdOtsm"
      }
    },
    {
      "cell_type": "code",
      "source": [
        "df['Store Open Month'] = df['Store Open'].dt.month\n",
        "average_sales_by_month = df.groupby('Store Open Month')['Sales'].mean().reset_index()\n",
        "best_month = average_sales_by_month.loc[average_sales_by_month['Sales'].idxmax()]\n",
        "print(\"Best time of the year to consider opening a store:\")\n",
        "print(best_month)"
      ],
      "metadata": {
        "colab": {
          "base_uri": "https://localhost:8080/"
        },
        "id": "LrlaEXCmKfVQ",
        "outputId": "637bdb06-ef1c-453a-a10b-ba429411abeb"
      },
      "execution_count": 13,
      "outputs": [
        {
          "output_type": "stream",
          "name": "stdout",
          "text": [
            "Best time of the year to consider opening a store:\n",
            "Store Open Month        8.000000\n",
            "Sales               48129.321517\n",
            "Name: 6, dtype: float64\n"
          ]
        }
      ]
    },
    {
      "cell_type": "markdown",
      "source": [
        "c) Are there any “outlet-type” effects towards store closures?"
      ],
      "metadata": {
        "id": "Ay1eJ9PKKb4p"
      }
    },
    {
      "cell_type": "markdown",
      "source": [
        "(We assume that the type of outlet might influence the likelihood of store closures.)"
      ],
      "metadata": {
        "id": "rnf6C-LaPEfq"
      }
    },
    {
      "cell_type": "markdown",
      "source": [
        "So first we identify stores that have closed by checking the Store Close column , Then group the data by outlet type and calculate the number of closed stores for each type.\n",
        "\n",
        "Now we calculate the total number of stores for each outlet type.\n",
        "\n",
        "Finally we calculate the closure rate for each outlet type by dividing the number of closed stores by the total number of stores for that type."
      ],
      "metadata": {
        "id": "7rzAcHQvPHmq"
      }
    },
    {
      "cell_type": "code",
      "source": [
        "closed_stores = df[df['Store Close'].notnull()]\n",
        "outlet_type_effects = closed_stores.groupby('Outlet Type')['Store'].nunique() / df.groupby('Outlet Type')['Store'].nunique()\n",
        "outlet_type_effects = outlet_type_effects.reset_index().rename(columns={0: 'Closure Rate'})\n",
        "print(\"Outlet-type effects towards store closures:\")\n",
        "print(outlet_type_effects)"
      ],
      "metadata": {
        "colab": {
          "base_uri": "https://localhost:8080/"
        },
        "id": "FQX0BR9YKfrk",
        "outputId": "3ddb4309-df9a-47b1-c8da-2cb813660f38"
      },
      "execution_count": 14,
      "outputs": [
        {
          "output_type": "stream",
          "name": "stdout",
          "text": [
            "Outlet-type effects towards store closures:\n",
            "  Outlet Type  Store\n",
            "0        Mall    1.0\n",
            "1      Outlet    1.0\n",
            "2       Strip    1.0\n"
          ]
        }
      ]
    },
    {
      "cell_type": "markdown",
      "source": [
        "The table shows that Mall, Outlet, and Strip outlet types have the same effect (1.0) on store closures. This suggests that, according to the data, the risk or likelihood of a store closing is the same for all three types of retail locations"
      ],
      "metadata": {
        "id": "cgzEEsldADut"
      }
    }
  ]
}