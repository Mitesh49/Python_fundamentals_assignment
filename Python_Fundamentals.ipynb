{
  "nbformat": 4,
  "nbformat_minor": 0,
  "metadata": {
    "colab": {
      "provenance": []
    },
    "kernelspec": {
      "name": "python3",
      "display_name": "Python 3"
    },
    "language_info": {
      "name": "python"
    }
  },
  "cells": [
    {
      "cell_type": "markdown",
      "source": [
        "Python fundamentals assignment by Mitesh V"
      ],
      "metadata": {
        "id": "FTUNFG7O6szP"
      }
    },
    {
      "cell_type": "markdown",
      "source": [
        "\n",
        "1)\n",
        "Write a program which takes 2 digits, X,Y as input and generates a 2-dimensional array.\n",
        "The element value in the i-th row and j-th column of the array should be i*j.\n",
        "\n"
      ],
      "metadata": {
        "id": "4cYsYuyR6iOd"
      }
    },
    {
      "cell_type": "code",
      "execution_count": 12,
      "metadata": {
        "colab": {
          "base_uri": "https://localhost:8080/"
        },
        "id": "0Zm19S5E2R4G",
        "outputId": "ed0d3476-0083-4844-9667-753c22b572c9"
      },
      "outputs": [
        {
          "output_type": "stream",
          "name": "stdout",
          "text": [
            "Enter the no. of rows: 3\n",
            "Enter the no. of columns: 5\n",
            "[[0, 0, 0, 0, 0], [0, 1, 2, 3, 4], [0, 2, 4, 6, 8]]\n"
          ]
        }
      ],
      "source": [
        "x = int(input('Enter the no. of rows: '))\n",
        "y = int(input('Enter the no. of columns: '))\n",
        "a = []\n",
        "\n",
        "for i in range(x):\n",
        "  b = []\n",
        "  for j in range(0,y):\n",
        "    k = i*j\n",
        "    b.append(k)\n",
        "  a.append(b)\n",
        "print(a)"
      ]
    },
    {
      "cell_type": "markdown",
      "source": [
        "2) Write a program that accepts a comma separated sequence of words as input and prints the words in a comma-separated sequence after sorting them alphabetically."
      ],
      "metadata": {
        "id": "kBXx9r6h6z2Z"
      }
    },
    {
      "cell_type": "code",
      "source": [
        "x1 = input(\"Enter comma seperated sequence of words: \")\n",
        "x2 = x1.split(',')\n",
        "x3 = sorted(x2)\n",
        "print(x3)"
      ],
      "metadata": {
        "colab": {
          "base_uri": "https://localhost:8080/"
        },
        "id": "gPlasH6x0Cs5",
        "outputId": "1bdde83a-3def-4c76-9a31-7926aba4d2c2"
      },
      "execution_count": 13,
      "outputs": [
        {
          "output_type": "stream",
          "name": "stdout",
          "text": [
            "Enter comma seperated sequence of words: without,hello,bag,world\n",
            "['bag', 'hello', 'without', 'world']\n"
          ]
        }
      ]
    },
    {
      "cell_type": "markdown",
      "source": [
        "3) Write a program that accepts a sequence of whitespace separated words as input and prints the words after removing all duplicate words and sorting them alphanumerically."
      ],
      "metadata": {
        "id": "qLUH9S9m7sm9"
      }
    },
    {
      "cell_type": "code",
      "source": [
        "x1 = input(\"Enter a whitespace-separated sequence of words: \")\n",
        "x2 = x1.split()\n",
        "x3 = set(x2)\n",
        "x4 = sorted(x3)\n",
        "final = ' '.join(x4)\n",
        "print(final)"
      ],
      "metadata": {
        "colab": {
          "base_uri": "https://localhost:8080/"
        },
        "id": "C2u30SwH7v-J",
        "outputId": "d4d61325-5f54-4f9f-fc69-0235b6cdc79b"
      },
      "execution_count": 15,
      "outputs": [
        {
          "output_type": "stream",
          "name": "stdout",
          "text": [
            "Enter a whitespace-separated sequence of words: hello world and practice makes perfect and hello world again\n",
            "again and hello makes perfect practice world\n"
          ]
        }
      ]
    },
    {
      "cell_type": "markdown",
      "source": [
        "4) Write a program, which will find all such numbers between 1000 and 3000 (both included) such that each digit of the number is an even number"
      ],
      "metadata": {
        "id": "HPvQ4LXz_WkS"
      }
    },
    {
      "cell_type": "code",
      "source": [
        "for i in range(1000,3001):\n",
        "  if i%2 == 0:\n",
        "    s = str(i)\n",
        "    if int(s[0])%2 == 0 and int(s[1])%2 == 0 and int(s[2])%2 == 0 and int(s[3])%2 == 0:\n",
        "      print(i, end = '')\n",
        "      print(end = ',')\n"
      ],
      "metadata": {
        "colab": {
          "base_uri": "https://localhost:8080/"
        },
        "id": "4CzhhD1Z_fl9",
        "outputId": "c944f9d2-2e53-4c06-e88e-1b2c4966c9bc"
      },
      "execution_count": 16,
      "outputs": [
        {
          "output_type": "stream",
          "name": "stdout",
          "text": [
            "2000,2002,2004,2006,2008,2020,2022,2024,2026,2028,2040,2042,2044,2046,2048,2060,2062,2064,2066,2068,2080,2082,2084,2086,2088,2200,2202,2204,2206,2208,2220,2222,2224,2226,2228,2240,2242,2244,2246,2248,2260,2262,2264,2266,2268,2280,2282,2284,2286,2288,2400,2402,2404,2406,2408,2420,2422,2424,2426,2428,2440,2442,2444,2446,2448,2460,2462,2464,2466,2468,2480,2482,2484,2486,2488,2600,2602,2604,2606,2608,2620,2622,2624,2626,2628,2640,2642,2644,2646,2648,2660,2662,2664,2666,2668,2680,2682,2684,2686,2688,2800,2802,2804,2806,2808,2820,2822,2824,2826,2828,2840,2842,2844,2846,2848,2860,2862,2864,2866,2868,2880,2882,2884,2886,2888,"
          ]
        }
      ]
    },
    {
      "cell_type": "markdown",
      "source": [
        "5) Write a program that accepts a sentence and calculate the number of letters and digits."
      ],
      "metadata": {
        "id": "Ok0vaGeOAsaX"
      }
    },
    {
      "cell_type": "code",
      "source": [
        "x1 = input(\"Enter the sentence : \")\n",
        "LETTERS = 0\n",
        "DIGITS = 0\n",
        "for i in x1:\n",
        "  if i.isalpha():\n",
        "    LETTERS += 1\n",
        "  elif i.isdigit():\n",
        "    DIGITS += 1\n",
        "\n",
        "print('Letters : ',LETTERS)\n",
        "print('Digits : ',DIGITS)"
      ],
      "metadata": {
        "colab": {
          "base_uri": "https://localhost:8080/"
        },
        "id": "f011YFq3Aryi",
        "outputId": "16149ba6-7877-429f-f395-878f4ccf5195"
      },
      "execution_count": 17,
      "outputs": [
        {
          "output_type": "stream",
          "name": "stdout",
          "text": [
            "Enter the sentence : hello world! 123\n",
            "Letters :  10\n",
            "Digits :  3\n"
          ]
        }
      ]
    },
    {
      "cell_type": "markdown",
      "source": [
        "6) Write a program that accepts a sentence and calculate the number of upper case letters and lower case letters."
      ],
      "metadata": {
        "id": "JY3PsOZ0DF03"
      }
    },
    {
      "cell_type": "code",
      "source": [
        "x1 = input(\"Enter the sentence : \")\n",
        "upper = 0\n",
        "lower = 0\n",
        "for i in x1:\n",
        "  if i.isupper():\n",
        "    upper += 1\n",
        "  elif i.islower():\n",
        "    lower += 1\n",
        "\n",
        "print('Upper case : ',upper)\n",
        "print('Lower case : ',lower)"
      ],
      "metadata": {
        "colab": {
          "base_uri": "https://localhost:8080/"
        },
        "id": "LcgG9CrHDGH1",
        "outputId": "93b79c51-b089-4461-e2ba-0555b97c93e1"
      },
      "execution_count": 18,
      "outputs": [
        {
          "output_type": "stream",
          "name": "stdout",
          "text": [
            "Enter the sentence : Hello world!\n",
            "Upper case :  1\n",
            "Lower case :  9\n"
          ]
        }
      ]
    },
    {
      "cell_type": "markdown",
      "source": [
        "7) Write a program that computes the net amount of a bank account based a transaction log from console input."
      ],
      "metadata": {
        "id": "MbxUbgstFbqw"
      }
    },
    {
      "cell_type": "code",
      "source": [
        "x = input(\"Enter the transaction : \")\n",
        "x1 = x.split(',')\n",
        "total = 0\n",
        "for i in x1:\n",
        "  x2 = i.split()\n",
        "  if x2[0] == 'D':\n",
        "    total += int(x2[1])\n",
        "  elif x2[0] == 'W':\n",
        "    total -= int(x2[1])\n",
        "\n",
        "print(\"The final balance is : \",total)"
      ],
      "metadata": {
        "colab": {
          "base_uri": "https://localhost:8080/"
        },
        "id": "C4fH0jMSFaqe",
        "outputId": "8e69b95a-367e-4e85-d53d-c7f16a5d8817"
      },
      "execution_count": 20,
      "outputs": [
        {
          "output_type": "stream",
          "name": "stdout",
          "text": [
            "Enter the transaction : D 300,D 300,W 200,D 100\n",
            "The final balance is :  500\n"
          ]
        }
      ]
    },
    {
      "cell_type": "markdown",
      "source": [
        "8) A website requires the users to input username and password to register. Write a program to check the validity of password input by users."
      ],
      "metadata": {
        "id": "t_bAsDhTJOJa"
      }
    },
    {
      "cell_type": "code",
      "source": [
        "password = input(\"Enter the passowrd : \")\n",
        "x1 = password.split(',')\n",
        "\n",
        "for i in x1:\n",
        "    lletter = 0\n",
        "    uletter = 0\n",
        "    no = 0\n",
        "    char = 0\n",
        "    for j in i:\n",
        "        if j.isalpha() and j.isupper():\n",
        "            uletter += 1\n",
        "        elif j.isalpha() and j.islower():\n",
        "            lletter += 1\n",
        "        elif j.isdigit():\n",
        "            no += 1\n",
        "        else:\n",
        "            char += 1\n",
        "\n",
        "    if((lletter >=1) and (uletter >=1) and (no >=1) and (char >=1) and (len(i)>=6) and (len(i)<=12)):\n",
        "        print(i)"
      ],
      "metadata": {
        "colab": {
          "base_uri": "https://localhost:8080/"
        },
        "id": "-IAvR73m0Tt8",
        "outputId": "ae37fa8e-ce60-456c-c6fd-796ef7cc01f2"
      },
      "execution_count": 21,
      "outputs": [
        {
          "output_type": "stream",
          "name": "stdout",
          "text": [
            "Enter the passowrd : ABd1234@1,a F1#,2w3E*,2We3345\n",
            "ABd1234@1\n"
          ]
        }
      ]
    },
    {
      "cell_type": "markdown",
      "source": [
        "9) You are required to write a program to sort the (name, age, height) tuples by ascending order where name is string, age and height are numbers."
      ],
      "metadata": {
        "id": "ropiJiQy3yWo"
      }
    },
    {
      "cell_type": "code",
      "source": [
        "data = ()\n",
        "print(\"Enter the tuples (Type 'done' when finished): \")\n",
        "\n",
        "while True:\n",
        "    t1 = input()\n",
        "    if t1.lower() == 'done':\n",
        "        break\n",
        "\n",
        "    name, age, height = t1.split(',')\n",
        "    data += ((name.strip(), age.strip(), height.strip()),)\n",
        "\n",
        "sorted_data = sorted(data, key=lambda x: (x[0], int(x[1]), int(x[2])))\n",
        "print(sorted_data)"
      ],
      "metadata": {
        "colab": {
          "base_uri": "https://localhost:8080/"
        },
        "id": "-pkEhyi63xpi",
        "outputId": "7cbdb911-a927-48b6-d098-6a95609a4311"
      },
      "execution_count": 22,
      "outputs": [
        {
          "output_type": "stream",
          "name": "stdout",
          "text": [
            "Enter the tuples (Type 'done' when finished): \n",
            "Tom,19,80\n",
            "John,20,90\n",
            "Jony,17,91\n",
            "Jony,17,93\n",
            "Json,21,85\n",
            "done\n",
            "[('John', '20', '90'), ('Jony', '17', '91'), ('Jony', '17', '93'), ('Json', '21', '85'), ('Tom', '19', '80')]\n"
          ]
        }
      ]
    },
    {
      "cell_type": "markdown",
      "source": [
        "10) A robot moves in a plane starting from the original point (0,0). The robot can move toward UP, DOWN, LEFT and RIGHT with a given steps.\n",
        "The numbers after the direction are steps.  \n",
        "The trace of robot movement is shown as the following:\n"
      ],
      "metadata": {
        "id": "mQ_eKuZi7088"
      }
    },
    {
      "cell_type": "code",
      "source": [
        "path = input(\"Enter the path : \")\n",
        "x1 = path.split(',')\n",
        "p = [0,0]\n",
        "for i in x1:\n",
        "    x2 = i.split()\n",
        "    if x2[0] == \"UP\":\n",
        "        p[0] = p[0] + int(x2[1])\n",
        "    elif x2[0] == \"DOWN\":\n",
        "        p[0] = p[0] - int(x2[1])\n",
        "    elif x2[0] == \"RIGHT\":\n",
        "        p[1] = p[1] + int(x2[1])\n",
        "    elif x2[0] == \"LEFT\":\n",
        "        p[1] = p[1] - int(x2[1])\n",
        "\n",
        "print(\"the final coordinates are : \",p)"
      ],
      "metadata": {
        "colab": {
          "base_uri": "https://localhost:8080/"
        },
        "id": "OsUpKFzr75yB",
        "outputId": "dc2b151a-b4ec-477d-c765-d4b9941dd3cf"
      },
      "execution_count": 23,
      "outputs": [
        {
          "output_type": "stream",
          "name": "stdout",
          "text": [
            "Enter the path : UP 5,DOWN 3,LEFT 3,RIGHT 2\n",
            "the final coordinates are :  [2, -1]\n"
          ]
        }
      ]
    },
    {
      "cell_type": "markdown",
      "source": [
        "11) Find the continuous occurrence of the string."
      ],
      "metadata": {
        "id": "ztMb5qA8-oC2"
      }
    },
    {
      "cell_type": "code",
      "source": [
        "x1 = input(\"Enter the string: \")\n",
        "s1 = x1.lower()\n",
        "result = \"\"\n",
        "count = 1\n",
        "for i in range(1, len(s1)):\n",
        "    if s1[i] == s1[i-1]:\n",
        "        count += 1\n",
        "    else:\n",
        "        result += s1[i-1] + str(count)\n",
        "        count = 1\n",
        "result += s1[-1] + str(count)\n",
        "print(result)"
      ],
      "metadata": {
        "colab": {
          "base_uri": "https://localhost:8080/"
        },
        "id": "mJtwV8Oi-0lF",
        "outputId": "0192ca2c-89e7-489d-f194-31aab72e0365"
      },
      "execution_count": 24,
      "outputs": [
        {
          "output_type": "stream",
          "name": "stdout",
          "text": [
            "Enter the string: Aabbcdeefffaabbcc\n",
            "a2b2c1d1e2f3a2b2c2\n"
          ]
        }
      ]
    },
    {
      "cell_type": "markdown",
      "source": [
        "12)Find the pair of alphabets in an alphanumeric string whose sum of numbers in between is always 9"
      ],
      "metadata": {
        "id": "mj5gLu1nDF-B"
      }
    },
    {
      "cell_type": "code",
      "source": [
        "x1 = input(\"Enter the string: \")\n",
        "result = []\n",
        "i = 0\n",
        "while i < len(x1):\n",
        "    if x1[i].isalpha():\n",
        "        j = i + 1\n",
        "        while j < len(x1) and not x1[j].isalpha():\n",
        "            j += 1\n",
        "        num_sum = sum(int(n) for n in x1[i + 1:j] if n.isdigit())\n",
        "        if num_sum == 9:\n",
        "            result.append((x1[i], x1[j]))\n",
        "        i = j\n",
        "    else:\n",
        "        i += 1\n",
        "\n",
        "for pair in result:\n",
        "    print(f\"{pair[0]},{pair[1]}\")"
      ],
      "metadata": {
        "colab": {
          "base_uri": "https://localhost:8080/"
        },
        "id": "r9RziQ-VDKyl",
        "outputId": "caff8e6c-02a0-4944-e6df-70d8c74c15a0"
      },
      "execution_count": 25,
      "outputs": [
        {
          "output_type": "stream",
          "name": "stdout",
          "text": [
            "Enter the string: a54b12c\n",
            "a,b\n"
          ]
        }
      ]
    },
    {
      "cell_type": "markdown",
      "source": [
        "13) Find how many pairs in a binary number that starts and ends with 1"
      ],
      "metadata": {
        "id": "JeWnhrkqFTpJ"
      }
    },
    {
      "cell_type": "code",
      "source": [
        "x1 = input(\"Enter the binary number: \")\n",
        "x2 = x1.count('1')\n",
        "binary_pairs = x2 * (x2 - 1) // 2 if x2 > 1 else 0\n",
        "print(binary_pairs)"
      ],
      "metadata": {
        "colab": {
          "base_uri": "https://localhost:8080/"
        },
        "id": "MCC515yVGmzm",
        "outputId": "282ef185-cb53-446e-9cf6-34da6918e388"
      },
      "execution_count": 26,
      "outputs": [
        {
          "output_type": "stream",
          "name": "stdout",
          "text": [
            "Enter the binary number: 1001101010010\n",
            "15\n"
          ]
        }
      ]
    },
    {
      "cell_type": "markdown",
      "source": [
        "14)Find the minimum possible denominations for given valid currency.\n",
        "(No of currencies used should be minimum)\n"
      ],
      "metadata": {
        "id": "VAbg8iJ5JjeV"
      }
    },
    {
      "cell_type": "code",
      "source": [
        "x1 = list(map(int, input(\"Enter the currency denominations (comma-separated): \").split(',')))\n",
        "money = int(input(\"Enter the amount of money: \"))\n",
        "\n",
        "x1.sort(reverse=True)\n",
        "result = []\n",
        "\n",
        "for i in x1:\n",
        "    if money >= i:\n",
        "        count = money // i\n",
        "        money -= count * i\n",
        "        result.append((i, count))\n",
        "\n",
        "for i, count in result:\n",
        "    print(f\"{i}-{count}\")\n"
      ],
      "metadata": {
        "colab": {
          "base_uri": "https://localhost:8080/"
        },
        "id": "BAx2XkFiJpFK",
        "outputId": "47ad1206-f908-4c2f-8cc5-b418cd738c63"
      },
      "execution_count": 27,
      "outputs": [
        {
          "output_type": "stream",
          "name": "stdout",
          "text": [
            "Enter the currency denominations (comma-separated): 1,2,5,10,20,50,100,200,500,2000\n",
            "Enter the amount of money: 556\n",
            "500-1\n",
            "50-1\n",
            "5-1\n",
            "1-1\n"
          ]
        }
      ]
    },
    {
      "cell_type": "markdown",
      "source": [
        "15)There is a bus travelling from Town A to Town B. There are n stops between them and bus has to make m stops.\n",
        "Find the numbery of ways in the travel so that no stop is consecutive\n"
      ],
      "metadata": {
        "id": "fp6g1OmVLdIB"
      }
    },
    {
      "cell_type": "code",
      "source": [
        "import math\n",
        "n = int(input(\"Enter the number of stops (n): \"))\n",
        "m = int(input(\"Enter the number of stops the bus has to make (m): \"))\n",
        "\n",
        "if m > n or m < 1:\n",
        "    x = 0\n",
        "else:\n",
        "    x = math.comb(n - m + 1, m)\n",
        "\n",
        "print(\"Output:\", x)"
      ],
      "metadata": {
        "colab": {
          "base_uri": "https://localhost:8080/"
        },
        "id": "HPsp6eJlLgCJ",
        "outputId": "90e89059-772d-4d85-c4c8-fb57da6494f2"
      },
      "execution_count": 28,
      "outputs": [
        {
          "output_type": "stream",
          "name": "stdout",
          "text": [
            "Enter the number of stops (n): 16\n",
            "Enter the number of stops the bus has to make (m): 5\n",
            "Output: 792\n"
          ]
        }
      ]
    },
    {
      "cell_type": "markdown",
      "source": [
        "16) A gaming company wants to create an App with multiple games.\n",
        "The instruction of the games is given. You are asked to write the code to prepare the games,\n",
        "Where inputs will be taken from users. Once the gaming algorithm is prepared then it can be associated with production interface of the App.\n",
        "\n",
        "Game: Stone Paper Scissor Cut\n",
        "    \n",
        "Each win of a player will be counted as a one point for the player.\n",
        "The game continues until any of the player scores 5.\n"
      ],
      "metadata": {
        "id": "5xrnkES_MsF8"
      }
    },
    {
      "cell_type": "code",
      "source": [
        "p1 = 0\n",
        "p2 = 0\n",
        "while((p1 or p2)<5):\n",
        "    x1 = (input(\"Player 1 input : \"))\n",
        "    x2 = (input(\"Player 2 input : \"))\n",
        "    x1.lower()\n",
        "    x2.lower()\n",
        "    if x1 == \"stone\":\n",
        "        if x2 == \"stone\":\n",
        "            print(\"(DRAW)\")\n",
        "        elif x2 == \"paper\":\n",
        "            print(\"(Player 2 wins)\")\n",
        "            p2 = p2 + 1\n",
        "        elif x2 == \"scissor\":\n",
        "            print(\"(Player 1 wins)\")\n",
        "            p1 = p1 + 1\n",
        "\n",
        "    elif x1 == \"paper\":\n",
        "        if x2 == \"paper\":\n",
        "            print(\"(DRAW)\")\n",
        "        elif x2 == \"scissor\":\n",
        "            print(\"(Player 2 wins)\")\n",
        "            p2 = p2 + 1\n",
        "        elif x2 == \"stone\":\n",
        "            print(\"(Player 1 wins)\")\n",
        "            p1 = p1 + 1\n",
        "\n",
        "    elif x1 == \"scissor\":\n",
        "        if x2 == \"scissor\":\n",
        "            print(\"(DRAW)\")\n",
        "        elif x2 == \"stone\":\n",
        "            print(\"(Player 2 wins)\")\n",
        "            p2 = p2 + 1\n",
        "        elif x2 == \"paper\":\n",
        "            print(\"(Player 1 wins)\")\n",
        "            p1 = p1 + 1\n",
        "\n",
        "if p1 == 5:\n",
        "    print(\"{Player 1 won (5 points)}\")\n",
        "\n",
        "if p2 == 5:\n",
        "    print(\"{Player 2 won (5 points)}\")\n"
      ],
      "metadata": {
        "colab": {
          "base_uri": "https://localhost:8080/"
        },
        "id": "7P7Gf9x-MwXm",
        "outputId": "ade07ef4-48c4-4594-89b3-12b7d03059ad"
      },
      "execution_count": null,
      "outputs": [
        {
          "output_type": "stream",
          "name": "stdout",
          "text": [
            "Player 1 input : stone\n",
            "Player 2 input : stone\n",
            "(DRAW)\n",
            "Player 1 input : stone\n",
            "Player 2 input : scissor\n",
            "(Player 1 wins)\n",
            "Player 1 input : paper\n",
            "Player 2 input : stone\n",
            "(Player 1 wins)\n",
            "Player 1 input : paper\n",
            "Player 2 input : stone\n",
            "(Player 1 wins)\n",
            "Player 1 input : scissor\n",
            "Player 2 input : paper\n",
            "(Player 1 wins)\n",
            "Player 1 input : stone\n",
            "Player 2 input : scissor\n",
            "(Player 1 wins)\n",
            "{Player 1 won (5 points)}\n"
          ]
        }
      ]
    },
    {
      "cell_type": "markdown",
      "source": [
        "17)Validate Email Address:"
      ],
      "metadata": {
        "id": "xfswTGvBRHYF"
      }
    },
    {
      "cell_type": "code",
      "source": [
        "x1 = input(\"Enter your email id : \")\n",
        "acount = 0\n",
        "ucount = 0\n",
        "scount = 0\n",
        "\n",
        "for i in x1:\n",
        "    if i == \"@\":\n",
        "        acount += 1\n",
        "    elif i.isupper():\n",
        "        ucount += 1\n",
        "\n",
        "for i in x1:\n",
        "    if i.isalnum() == True:\n",
        "        continue\n",
        "    else:\n",
        "        if (i != '.') and (i != '_') and (i != '@'):\n",
        "            scount += 1\n",
        "\n",
        "if (acount > 1) or (ucount >= 1) or (scount >= 1) or (acount < 1):\n",
        "    print(\"The @ count is : \",acount)\n",
        "    print(\"The uppercase count is : \",ucount)\n",
        "    print(\"The extra symbol count is : \",scount)\n",
        "    print(\"INVALID EMAIL\")\n",
        "else:\n",
        "    print(\"VALID EMAIL\")"
      ],
      "metadata": {
        "colab": {
          "base_uri": "https://localhost:8080/"
        },
        "id": "zZUwGkDNTQkQ",
        "outputId": "03df9150-a150-47db-b748-b51ac8b9391e"
      },
      "execution_count": 29,
      "outputs": [
        {
          "output_type": "stream",
          "name": "stdout",
          "text": [
            "Enter your email id : m49_cutz@gmail.com\n",
            "VALID EMAIL\n"
          ]
        }
      ]
    },
    {
      "cell_type": "markdown",
      "source": [
        "18)solve the pattern"
      ],
      "metadata": {
        "id": "UOvgFQiMyMes"
      }
    },
    {
      "cell_type": "markdown",
      "source": [
        "a)"
      ],
      "metadata": {
        "id": "zJE5J2FlzN0T"
      }
    },
    {
      "cell_type": "code",
      "source": [
        "n = int(input(\"Enter the no. of rows : \"))\n",
        "\n",
        "n1 = 1\n",
        "for i in range(1, n + 1):\n",
        "    for j in range(i):\n",
        "        if j == i - 1:\n",
        "            print(n1, end=\"\")\n",
        "        else:\n",
        "            print(n1, \"*\", end=\" \")\n",
        "        n1 += 1\n",
        "    print()"
      ],
      "metadata": {
        "colab": {
          "base_uri": "https://localhost:8080/"
        },
        "id": "BepDlot2ySzN",
        "outputId": "b87daa9a-37c4-42d0-d1e4-d09f389b76b3"
      },
      "execution_count": 30,
      "outputs": [
        {
          "output_type": "stream",
          "name": "stdout",
          "text": [
            "Enter the no. of rows : 4\n",
            "1\n",
            "2 * 3\n",
            "4 * 5 * 6\n",
            "7 * 8 * 9 * 10\n"
          ]
        }
      ]
    },
    {
      "cell_type": "markdown",
      "source": [
        "b)"
      ],
      "metadata": {
        "id": "T7BGzoagzO8z"
      }
    },
    {
      "cell_type": "code",
      "source": [
        "n = int(input(\"Enter the no. of rows : \"))\n",
        "\n",
        "for i in range(1, n*2):\n",
        "    if i <= n:\n",
        "        spaces = n - i\n",
        "        stars = i\n",
        "    else:\n",
        "        spaces = i - n\n",
        "        stars = n*2 - i\n",
        "\n",
        "    print(\" \" * spaces + \"* \" * stars)"
      ],
      "metadata": {
        "colab": {
          "base_uri": "https://localhost:8080/"
        },
        "id": "nzzb1JWFzUUZ",
        "outputId": "8c7fa03e-5fd6-4062-ee99-79093ef4fbf1"
      },
      "execution_count": 31,
      "outputs": [
        {
          "output_type": "stream",
          "name": "stdout",
          "text": [
            "Enter the no. of rows : 4\n",
            "   * \n",
            "  * * \n",
            " * * * \n",
            "* * * * \n",
            " * * * \n",
            "  * * \n",
            "   * \n"
          ]
        }
      ]
    },
    {
      "cell_type": "markdown",
      "source": [
        "c)"
      ],
      "metadata": {
        "id": "wzjQv0lPzRTX"
      }
    },
    {
      "cell_type": "code",
      "source": [
        "n = int(input(\"Enter the number of rows: \"))\n",
        "count = 1\n",
        "x2 = \"\"\n",
        "\n",
        "for i in range(1, n + 1):\n",
        "    for j in range(1, i + 1):\n",
        "        x2 += str(count)\n",
        "        count += 1\n",
        "        if j < i:\n",
        "            x2 += \" * \"\n",
        "    x2 += \"\\n\"\n",
        "\n",
        "count -= (n - 1) * (n - 1) // 2 + (n - 1)\n",
        "for i in range(n - 1, 0, -1):\n",
        "    start = count\n",
        "    for j in range(1, i + 1):\n",
        "        x2 += str(start)\n",
        "        start += 1\n",
        "        if j < i:\n",
        "            x2 += \" * \"\n",
        "    count -= (i - 1)\n",
        "    x2 += \"\\n\"\n",
        "\n",
        "print(x2)"
      ],
      "metadata": {
        "colab": {
          "base_uri": "https://localhost:8080/"
        },
        "id": "TDj9nchBzQ8b",
        "outputId": "7493e7a7-8f53-4ab7-8f0f-2106fa57937c"
      },
      "execution_count": 32,
      "outputs": [
        {
          "output_type": "stream",
          "name": "stdout",
          "text": [
            "Enter the number of rows: 4\n",
            "1\n",
            "2 * 3\n",
            "4 * 5 * 6\n",
            "7 * 8 * 9 * 10\n",
            "4 * 5 * 6\n",
            "2 * 3\n",
            "1\n",
            "\n"
          ]
        }
      ]
    },
    {
      "cell_type": "markdown",
      "source": [
        "d)"
      ],
      "metadata": {
        "id": "8YiJ00PczU7Y"
      }
    },
    {
      "cell_type": "code",
      "source": [
        "n = int(input(\"Enter the no. of rows: \"))\n",
        "\n",
        "x2 = \"\"\n",
        "for i in range(0, n):\n",
        "    for j in range(0, n):\n",
        "        if ((j == 1 and i != 0 and i != 6) or ((i == 0 or i == 6) and j > 1 and j < 5) or (i == 3 and j > 2 and j < 6) or (j == 5 and i != 0 and i != 2 and i != 6)):\n",
        "            x2 = x2 + \"*\"\n",
        "        else:\n",
        "            x2 = x2 + \" \"\n",
        "\n",
        "    x2 = x2 + \"\\n\"\n",
        "\n",
        "print(x2)"
      ],
      "metadata": {
        "colab": {
          "base_uri": "https://localhost:8080/"
        },
        "id": "9AYdtkYKzV1A",
        "outputId": "4f9c1d5a-fd36-4c41-ae13-e0b755084883"
      },
      "execution_count": 33,
      "outputs": [
        {
          "output_type": "stream",
          "name": "stdout",
          "text": [
            "Enter the no. of rows: 7\n",
            "  ***  \n",
            " *   * \n",
            " *     \n",
            " * *** \n",
            " *   * \n",
            " *   * \n",
            "  ***  \n",
            "\n"
          ]
        }
      ]
    },
    {
      "cell_type": "markdown",
      "source": [
        "19) Cyclic rotation"
      ],
      "metadata": {
        "id": "YgBSvgZWyToc"
      }
    },
    {
      "cell_type": "code",
      "source": [
        "x1 = int(input(\"Enter 1 for first to last, 2 for last to first: \"))\n",
        "s = input(\"Enter the string: \")\n",
        "n = int(input(\"Enter number of rotations: \"))\n",
        "\n",
        "for _ in range(n):\n",
        "  if x1 == 1:\n",
        "    first_char = s[0]\n",
        "    s = s[1:] + first_char\n",
        "  else:\n",
        "    last_char = s[-1]\n",
        "    s = last_char + s[:-1]\n",
        "\n",
        "print(s)"
      ],
      "metadata": {
        "colab": {
          "base_uri": "https://localhost:8080/"
        },
        "id": "xfpDAfTUyX53",
        "outputId": "fd7bdbc3-4940-4875-ee16-d910e115f14b"
      },
      "execution_count": 35,
      "outputs": [
        {
          "output_type": "stream",
          "name": "stdout",
          "text": [
            "Enter 1 for first to last, 2 for last to first: 1\n",
            "Enter the string: happy\n",
            "Enter number of rotations: 2\n",
            "ppyha\n"
          ]
        }
      ]
    },
    {
      "cell_type": "markdown",
      "source": [
        "20) Health check up"
      ],
      "metadata": {
        "id": "UnrQt_wIyZDt"
      }
    },
    {
      "cell_type": "code",
      "source": [
        "h1 = {\n",
        "    \"Sugar level\": 15,\n",
        "    \"Blood pressure\": 32,\n",
        "    \"Heartbeat rate\": 71,\n",
        "    \"weight\": 65,\n",
        "    \"fat percentage\": 10\n",
        "}\n",
        "\n",
        "x1 = {}\n",
        "x1[\"Sugar level\"] = int(input(\"Enter Sugar level: \"))\n",
        "x1[\"Blood pressure\"] = int(input(\"Enter Blood pressure: \"))\n",
        "x1[\"Heartbeat rate\"] = int(input(\"Enter Heartbeat rate: \"))\n",
        "x1[\"weight\"] = int(input(\"Enter weight: \"))\n",
        "x1[\"fat percentage\"] = int(input(\"Enter fat percentage: \"))\n",
        "\n",
        "differences = {}\n",
        "warnings = []\n",
        "\n",
        "for i in h1:\n",
        "    d = x1[i] - h1[i]\n",
        "    differences[i] = d\n",
        "    if d != 0:\n",
        "      warnings.append(f\"{i} is {abs(d)} {'more' if d > 0 else 'less'} than the ideal value\")\n",
        "    elif d == 0:\n",
        "      warnings.append(\"No warning , the patient is HEALTHY\")\n",
        "      break\n",
        "\n",
        "print(\"\\nPatient's data:\")\n",
        "for i, value in x1.items():\n",
        "    print(f\"{i}: {value}\")\n",
        "\n",
        "print(\"\\nDifferences from healthy patient data:\")\n",
        "print(differences)\n",
        "\n",
        "print(\"\\nWarnings:\")\n",
        "for warning in warnings:\n",
        "  print(warning)\n"
      ],
      "metadata": {
        "colab": {
          "base_uri": "https://localhost:8080/"
        },
        "id": "OH8UoNljyaV8",
        "outputId": "006223a1-9af6-49e4-c05f-ed77b6c2ae7e"
      },
      "execution_count": 36,
      "outputs": [
        {
          "output_type": "stream",
          "name": "stdout",
          "text": [
            "Enter Sugar level: 56\n",
            "Enter Blood pressure: 120\n",
            "Enter Heartbeat rate: 45\n",
            "Enter weight: 67\n",
            "Enter fat percentage: 67\n",
            "\n",
            "Patient's data:\n",
            "Sugar level: 56\n",
            "Blood pressure: 120\n",
            "Heartbeat rate: 45\n",
            "weight: 67\n",
            "fat percentage: 67\n",
            "\n",
            "Differences from healthy patient data:\n",
            "{'Sugar level': 41, 'Blood pressure': 88, 'Heartbeat rate': -26, 'weight': 2, 'fat percentage': 57}\n",
            "\n",
            "Warnings:\n",
            "Sugar level is 41 more than the ideal value\n",
            "Blood pressure is 88 more than the ideal value\n",
            "Heartbeat rate is 26 less than the ideal value\n",
            "weight is 2 more than the ideal value\n",
            "fat percentage is 57 more than the ideal value\n"
          ]
        }
      ]
    },
    {
      "cell_type": "markdown",
      "source": [
        "21) Armstrong number"
      ],
      "metadata": {
        "id": "GPMwk4Gydpul"
      }
    },
    {
      "cell_type": "code",
      "source": [
        "x1 = int(input(\"Enter the number for checking: \"))\n",
        "s = 0\n",
        "t = x1\n",
        "digits = len(str(x1))\n",
        "while t > 0:\n",
        "   digit = t % 10\n",
        "   s += digit ** digits\n",
        "   t //= 10\n",
        "\n",
        "if x1 == s:\n",
        "   print(x1, \"is an Armstrong number\")\n",
        "else:\n",
        "   print(x1, \"is not an Armstrong number\")\n"
      ],
      "metadata": {
        "colab": {
          "base_uri": "https://localhost:8080/"
        },
        "id": "JWcMXyrOdvJs",
        "outputId": "231bafdf-cb5b-4184-a248-e1c81dcec0ff"
      },
      "execution_count": 37,
      "outputs": [
        {
          "output_type": "stream",
          "name": "stdout",
          "text": [
            "Enter the number for checking: 1634\n",
            "1634 is an Armstrong number\n"
          ]
        }
      ]
    },
    {
      "cell_type": "markdown",
      "source": [
        "22) Decimal to binary converter"
      ],
      "metadata": {
        "id": "1Gd5i6wdfqQW"
      }
    },
    {
      "cell_type": "code",
      "source": [
        "x1 = int(input(\"Enter the decimal: \"))\n",
        "binaryArray = []\n",
        "\n",
        "while x1 > 0:\n",
        "  binaryArray.append(x1%2)\n",
        "  x1 = x1//2\n",
        "\n",
        "for j in reversed(binaryArray):\n",
        "    print(j, end=\"\")"
      ],
      "metadata": {
        "colab": {
          "base_uri": "https://localhost:8080/"
        },
        "id": "lbq9_YgHfuut",
        "outputId": "ba7ff5a1-c53e-483a-c6e4-97a57e1ec154"
      },
      "execution_count": 38,
      "outputs": [
        {
          "output_type": "stream",
          "name": "stdout",
          "text": [
            "Enter the decimal: 20\n",
            "10100"
          ]
        }
      ]
    },
    {
      "cell_type": "markdown",
      "source": [
        "23) Perfect number"
      ],
      "metadata": {
        "id": "WfS1YynLfvGo"
      }
    },
    {
      "cell_type": "code",
      "source": [
        "x1 = int(input(\"Enter the number for checking : \"))\n",
        "Sum = 0\n",
        "for i in range(1, x1):\n",
        "    if(x1 % i == 0):\n",
        "        Sum = Sum + i\n",
        "if (Sum == x1):\n",
        "    print(x1,\"is a Perfect Number.\")\n",
        "else:\n",
        "    print(x1,\"is not a Perfect Number.\")"
      ],
      "metadata": {
        "colab": {
          "base_uri": "https://localhost:8080/"
        },
        "id": "ubreT5aKfyXV",
        "outputId": "0b0e0a42-423e-4c50-e726-596690c22be3"
      },
      "execution_count": 39,
      "outputs": [
        {
          "output_type": "stream",
          "name": "stdout",
          "text": [
            "Enter the number for checking : 28\n",
            "28 is a Perfect Number.\n"
          ]
        }
      ]
    }
  ]
}